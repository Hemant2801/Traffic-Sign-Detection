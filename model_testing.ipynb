{
 "cells": [
  {
   "cell_type": "code",
   "execution_count": 1,
   "id": "12ab67c2",
   "metadata": {},
   "outputs": [],
   "source": [
    "import numpy as np\n",
    "import cv2\n",
    "from keras.models import load_model"
   ]
  },
  {
   "cell_type": "code",
   "execution_count": 2,
   "id": "d24571e9",
   "metadata": {},
   "outputs": [],
   "source": [
    "framewidth = 640\n",
    "frameheight = 480\n",
    "brightness =100\n",
    "threshold = 0.90\n",
    "font = cv2.FONT_HERSHEY_SIMPLEX"
   ]
  },
  {
   "cell_type": "markdown",
   "id": "3f12dfd2",
   "metadata": {},
   "source": [
    "# setup the camers"
   ]
  },
  {
   "cell_type": "code",
   "execution_count": 3,
   "id": "48bb551e",
   "metadata": {},
   "outputs": [
    {
     "data": {
      "text/plain": [
       "False"
      ]
     },
     "execution_count": 3,
     "metadata": {},
     "output_type": "execute_result"
    }
   ],
   "source": [
    "vid = cv2.VideoCapture(0)\n",
    "if not vid.isOpened():\n",
    "    vid = cv2.VideoCapture(0)\n",
    "if not vid.isOpened():\n",
    "    print('ERROR!!!!!!!!!!!!874574569890NJHFKBNM,BKMJIT674@#!$&*%^%#%^@#%^$&^')\n",
    "    \n",
    "vid.set(3,framewidth)\n",
    "vid.set(4,frameheight)\n",
    "vid.set(10 ,brightness)"
   ]
  },
  {
   "cell_type": "markdown",
   "id": "971f5fb1",
   "metadata": {},
   "source": [
    "# importing the training module"
   ]
  },
  {
   "cell_type": "code",
   "execution_count": 4,
   "id": "d0e0e52a",
   "metadata": {},
   "outputs": [],
   "source": [
    "model = load_model('model_trained.h5')"
   ]
  },
  {
   "cell_type": "markdown",
   "id": "e89b08c7",
   "metadata": {},
   "source": [
    "# Preprocessing the image"
   ]
  },
  {
   "cell_type": "code",
   "execution_count": 5,
   "id": "9c080345",
   "metadata": {},
   "outputs": [],
   "source": [
    "def grayscale(img):\n",
    "    img = cv2.cvtColor(img , cv2.COLOR_BGR2GRAY)\n",
    "    return img\n",
    "\n",
    "def equalize(img):\n",
    "    img = cv2.equalizeHist(img)\n",
    "    return img\n",
    "\n",
    "def preprocessing(img):\n",
    "    img = grayscale(img)  #converts the image into gray\n",
    "    img = equalize(img)   #standardize the lighting of the image\n",
    "    img = img/255         #to normalize values between 0 and 1 instead of 0 to 255\n",
    "    return img"
   ]
  },
  {
   "cell_type": "code",
   "execution_count": 6,
   "id": "03a36506",
   "metadata": {},
   "outputs": [
    {
     "name": "stdout",
     "output_type": "stream",
     "text": [
      "'Speed limit (70km/h)', \n",
      "\n"
     ]
    }
   ],
   "source": [
    "ls =[]\n",
    "with open(\"sign_labels.txt\", \"r\") as file:\n",
    "    data = file.readlines()\n",
    "    for i in range(len(data)):\n",
    "        ls.append(data[i])\n",
    "ls  = np.asarray(ls).astype('object')\n",
    "print(ls[4])\n",
    "def getclassname(classNo):\n",
    "    return (ls[classNo])"
   ]
  },
  {
   "cell_type": "markdown",
   "id": "68d45678",
   "metadata": {},
   "source": [
    "# rectangular box around the object"
   ]
  },
  {
   "cell_type": "code",
   "execution_count": 11,
   "id": "1e0bf508",
   "metadata": {},
   "outputs": [],
   "source": [
    "def contour(path):\n",
    "    img = cv2.resize(path , (640,480))\n",
    "    backup= img.copy()\n",
    "\n",
    "\n",
    "    #img = cv2.resize(img,(480,360))\n",
    "    image = cv2.cvtColor(img,cv2.COLOR_BGR2RGB)\n",
    "    # red color boundaries [B, G, R]\n",
    "    lower = [np.mean(image[:,:,i] - np.std(image[:,:,i])/3 ) for i in range(3)]\n",
    "    upper = [250, 250, 250]\n",
    "\n",
    "    # create NumPy arrays from the boundaries\n",
    "    lower = np.array(lower, dtype=\"uint8\")\n",
    "    upper = np.array(upper, dtype=\"uint8\")\n",
    "\n",
    "    # find the colors within the specified boundaries and apply\n",
    "    mask = cv2.inRange(image, lower, upper)\n",
    "    output = cv2.bitwise_and(image, image, mask=mask)\n",
    "    ret,thresh = cv2.threshold(mask, 40, 255, 0)\n",
    "    contours, hierarchy = cv2.findContours(thresh, cv2.RETR_EXTERNAL, cv2.CHAIN_APPROX_NONE)\n",
    "    \n",
    "    return contours,hierarchy\n",
    "\n",
    "#cv2.imshow('output' , output)\n",
    "#cv2.waitKey()"
   ]
  },
  {
   "cell_type": "code",
   "execution_count": 18,
   "id": "73fb7e14",
   "metadata": {},
   "outputs": [
    {
     "name": "stdout",
     "output_type": "stream",
     "text": [
      "WHAT DO YOU WANT TO DO?\n",
      "a)VIDEO\n",
      "b)IMAGE\n",
      "b\n"
     ]
    }
   ],
   "source": [
    "choice = input('WHAT DO YOU WANT TO DO?\\na)VIDEO\\nb)IMAGE\\n')\n",
    "\n",
    "if choice == 'a':\n",
    "    while True:\n",
    "    #read image\n",
    "        success , imageread = vid.read()\n",
    "    #process image\n",
    "        img = np.array(imageread)\n",
    "        img = cv2.resize(img,(32,32))\n",
    "        img = preprocessing(img)\n",
    "    #cv2.imshow('processed image' , img)\n",
    "        img = img.reshape(1,32,32,1)\n",
    "        cv2.putText(imageread, 'CLASS : ', (20,35) , font, 0.75,(0,150,255) , 2, cv2.LINE_AA )\n",
    "        cv2.putText(imageread, 'PROBABILITY : ', (20,75) , font, 0.75,(0,0,255) , 2, cv2.LINE_AA )\n",
    "    \n",
    "    #predict image\n",
    "        pred = model.predict(img)\n",
    "        classindex = model.predict_classes(img)\n",
    "        probability_values = np.amax(pred)\n",
    "        \n",
    "        #cont , heir = contour()\n",
    "        if probability_values > threshold:\n",
    "            if len(cont) != 0:\n",
    "                # find the biggest countour (c) by the area\n",
    "                c = max(cont, key = cv2.contourArea)\n",
    "                x,y,w,h = cv2.boundingRect(c)\n",
    "\n",
    "                # draw the biggest contour (c) in green\n",
    "                cv2.rectangle(imageread,(x,y),(x+w,y+h),(0,255,0),5)\n",
    "                cv2.putText(imageread,str(classindex)+' '+str((getclassname(classindex))),(120,35) , font, 0.75,(0,150,255) , 2, cv2.LINE_AA )\n",
    "                cv2.putText(imageread,str(round(probability_values*100,2) )+'%', (100,75) , font, 0.75,(0,0,255) , 2, cv2.LINE_AA )\n",
    "        cv2.imshow('RESULT' , imageread)\n",
    "    \n",
    "        if cv2.waitKey(2) & 0xff == ord('q'):\n",
    "            break\n",
    "        \n",
    "    vid.release()\n",
    "    cv2.destroyAllWindows()\n",
    "    \n",
    "elif choice == 'b':\n",
    "    imageread = cv2.imread('speed-50.jpg')\n",
    "    #process image\n",
    "    imageread = cv2.resize(imageread,(640,480))\n",
    "    img = np.array(imageread)\n",
    "    img = cv2.resize(img,(32,32))\n",
    "    img = preprocessing(img)\n",
    "    #cv2.imshow('processed image' , img)\n",
    "    img = img.reshape(1,32,32,1)\n",
    "    cv2.putText(imageread, 'CLASS : ', (20,35) , font, 0.75,(0,0,255) , 2, cv2.LINE_AA )\n",
    "    cv2.putText(imageread, 'PROBABILITY : ', (20,75) , font, 0.75,(0,0,255) , 2, cv2.LINE_AA )\n",
    "    \n",
    "    #predict image\n",
    "    pred = model.predict(img)\n",
    "    classindex = model.predict_classes(img)\n",
    "\n",
    "    probability_values = np.amax(pred)\n",
    "\n",
    "    cont , heir = contour(imageread)\n",
    "    if probability_values > threshold:\n",
    "        if len(cont) != 0:\n",
    "            # find the biggest countour (c) by the area\n",
    "            c = max(cont, key = cv2.contourArea)\n",
    "            x,y,w,h = cv2.boundingRect(c)\n",
    "\n",
    "            # draw the biggest contour (c) in green\n",
    "            cv2.rectangle(imageread,(x,y),(x+w,y+h),(0,255,0),5)\n",
    "            cv2.putText(imageread,str(classindex)+' '+str((getclassname(classindex))),(120,35) , font, 0.75,(0,0,255) , 2, cv2.LINE_AA )\n",
    "            cv2.putText(imageread,str(round(probability_values*100,2) )+'%', (200,75) , font, 0.75,(0,0,255) , 2, cv2.LINE_AA )\n",
    "    cv2.imshow('RESULT' , imageread)\n",
    "    \n",
    "    cv2.waitKey()\n",
    "    cv2.destroyAllWindows()\n",
    "    \n",
    "else:\n",
    "    print('WRONG KEY PRESSED @E^%@&^*$&*%@$*&%&^@%*^$&%@&$&^%@^$@&^$@&')"
   ]
  },
  {
   "cell_type": "code",
   "execution_count": null,
   "id": "64eff58d",
   "metadata": {},
   "outputs": [],
   "source": []
  }
 ],
 "metadata": {
  "kernelspec": {
   "display_name": "Python 3",
   "language": "python",
   "name": "python3"
  },
  "language_info": {
   "codemirror_mode": {
    "name": "ipython",
    "version": 3
   },
   "file_extension": ".py",
   "mimetype": "text/x-python",
   "name": "python",
   "nbconvert_exporter": "python",
   "pygments_lexer": "ipython3",
   "version": "3.8.8"
  }
 },
 "nbformat": 4,
 "nbformat_minor": 5
}
